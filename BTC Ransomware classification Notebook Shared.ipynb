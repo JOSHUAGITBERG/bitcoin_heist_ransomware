{
 "cells": [
  {
   "cell_type": "code",
   "execution_count": 230,
   "id": "782de248",
   "metadata": {},
   "outputs": [],
   "source": [
    "import pandas as pd\n",
    "import numpy as np\n",
    "\n",
    "from scipy import stats\n",
    "\n",
    "from imblearn.over_sampling import BorderlineSMOTE\n",
    "from imblearn.over_sampling import SMOTE\n",
    "from imblearn.under_sampling import NearMiss\n",
    "from imblearn.pipeline import Pipeline\n",
    "\n",
    "from sklearn.model_selection import train_test_split, cross_validate, cross_val_score\n",
    "from sklearn.neighbors import KNeighborsClassifier\n",
    "from sklearn.linear_model import LogisticRegression\n",
    "from sklearn import svm\n",
    "#from sklearn.pipeline import Pipeline\n",
    "from sklearn.preprocessing import StandardScaler\n",
    "from sklearn.metrics import mean_squared_error\n",
    "from sklearn.metrics import confusion_matrix, classification_report, ConfusionMatrixDisplay, recall_score, precision_score\n",
    "from sklearn.tree import DecisionTreeClassifier\n",
    "from sklearn.ensemble import RandomForestClassifier\n",
    "from sklearn import tree\n",
    "import xgboost as xgb\n",
    "\n",
    "from collections import Counter\n",
    "\n",
    "import matplotlib.pyplot as plt\n",
    "import seaborn as sns"
   ]
  },
  {
   "cell_type": "code",
   "execution_count": 205,
   "id": "1c08adef",
   "metadata": {},
   "outputs": [],
   "source": [
    "# Load Data from https://www.kaggle.com/datasets/sapere0/bitcoinheist-ransomware-dataset/download?datasetVersionNumber=1\n",
    "df=pd.read_csv('Downloads/BitcoinHeistData.csv')"
   ]
  },
  {
   "cell_type": "code",
   "execution_count": 206,
   "id": "30c39e5d",
   "metadata": {},
   "outputs": [
    {
     "name": "stdout",
     "output_type": "stream",
     "text": [
      "                              address  year  day  length    weight  count  \\\n",
      "0   111K8kZAEnJg245r2cM6y9zgJGHZtJPy6  2017   11      18  0.008333      1   \n",
      "1  1123pJv8jzeFQaCV4w644pzQJzVWay2zcA  2016  132      44  0.000244      1   \n",
      "2  112536im7hy6wtKbpH1qYDWtTyMRAcA2p7  2016  246       0  1.000000      1   \n",
      "3  1126eDRw2wqSkWosjTCre8cjjQW8sSeWH7  2016  322      72  0.003906      1   \n",
      "4  1129TSjKtx65E35GiUo4AYVeyo48twbrGX  2016  238     144  0.072848    456   \n",
      "\n",
      "   looped  neighbors       income            label  \n",
      "0       0          2  100050000.0  princetonCerber  \n",
      "1       0          1  100000000.0   princetonLocky  \n",
      "2       0          2  200000000.0  princetonCerber  \n",
      "3       0          2   71200000.0  princetonCerber  \n",
      "4       0          1  200000000.0   princetonLocky  \n"
     ]
    }
   ],
   "source": [
    "print(df.head())"
   ]
  },
  {
   "cell_type": "code",
   "execution_count": 207,
   "id": "029dbda1",
   "metadata": {},
   "outputs": [
    {
     "name": "stdout",
     "output_type": "stream",
     "text": [
      "<class 'pandas.core.frame.DataFrame'>\n",
      "RangeIndex: 2916697 entries, 0 to 2916696\n",
      "Data columns (total 10 columns):\n",
      " #   Column     Dtype  \n",
      "---  ------     -----  \n",
      " 0   address    object \n",
      " 1   year       int64  \n",
      " 2   day        int64  \n",
      " 3   length     int64  \n",
      " 4   weight     float64\n",
      " 5   count      int64  \n",
      " 6   looped     int64  \n",
      " 7   neighbors  int64  \n",
      " 8   income     float64\n",
      " 9   label      object \n",
      "dtypes: float64(2), int64(6), object(2)\n",
      "memory usage: 222.5+ MB\n"
     ]
    }
   ],
   "source": [
    "df.info()"
   ]
  },
  {
   "cell_type": "code",
   "execution_count": 208,
   "id": "7eebc8c5",
   "metadata": {},
   "outputs": [
    {
     "data": {
      "text/plain": [
       "year  label                      \n",
       "2011  montrealCryptoLocker             65\n",
       "2012  montrealCryptoLocker            714\n",
       "2013  montrealCryptoLocker           7484\n",
       "      montrealRazy                      8\n",
       "      montrealNoobCrypt                 2\n",
       "2014  paduaCryptoWall                9157\n",
       "      montrealCryptoLocker           1050\n",
       "      montrealNoobCrypt               109\n",
       "      montrealGlobeImposter             2\n",
       "      montrealCryptoTorLocker2015       1\n",
       "2015  paduaCryptoWall                3233\n",
       "      montrealNoobCrypt               300\n",
       "      montrealDMALocker                73\n",
       "      montrealCryptoTorLocker2015      53\n",
       "      montrealGlobeImposter            38\n",
       "      montrealCryptoLocker              2\n",
       "      montrealRazy                      2\n",
       "2016  princetonLocky                 6585\n",
       "      princetonCerber                6043\n",
       "      montrealCryptXXX               2419\n",
       "      montrealDMALockerv3             193\n",
       "      montrealDMALocker               178\n",
       "      montrealNoobCrypt                72\n",
       "      montrealSamSam                   42\n",
       "      montrealGlobe                    28\n",
       "      montrealGlobev3                  22\n",
       "      paduaKeRanger                    10\n",
       "      montrealXTPLocker                 8\n",
       "      montrealFlyper                    7\n",
       "      montrealAPT                       5\n",
       "      montrealGlobeImposter             4\n",
       "      montrealJigSaw                    4\n",
       "      montrealEDA2                      3\n",
       "      montrealRazy                      2\n",
       "      paduaJigsaw                       2\n",
       "      montrealComradeCircle             1\n",
       "      montrealCryptoTorLocker2015       1\n",
       "      montrealSam                       1\n",
       "      montrealVenusLocker               1\n",
       "2017  princetonCerber                3180\n",
       "      montrealDMALockerv3             161\n",
       "      princetonLocky                   40\n",
       "      montrealWannaCry                 28\n",
       "      montrealSamSam                   20\n",
       "      montrealGlobev3                  12\n",
       "      montrealGlobeImposter            11\n",
       "      montrealCryptConsole              7\n",
       "      montrealXLockerv5.0               7\n",
       "      montrealAPT                       6\n",
       "      montrealVenusLocker               6\n",
       "      montrealGlobe                     4\n",
       "      montrealEDA2                      3\n",
       "      montrealXLocker                   1\n",
       "2018  montrealFlyper                    2\n",
       "      montrealRazy                      1\n",
       "Name: label, dtype: int64"
      ]
     },
     "execution_count": 208,
     "metadata": {},
     "output_type": "execute_result"
    }
   ],
   "source": [
    "df.query('label!=\"white\"').groupby('year')['label'].value_counts()"
   ]
  },
  {
   "cell_type": "code",
   "execution_count": 209,
   "id": "595812fd",
   "metadata": {},
   "outputs": [
    {
     "data": {
      "text/plain": [
       "2016    380631\n",
       "2014    375319\n",
       "2013    372494\n",
       "2015    368701\n",
       "2017    368486\n",
       "Name: year, dtype: int64"
      ]
     },
     "execution_count": 209,
     "metadata": {},
     "output_type": "execute_result"
    }
   ],
   "source": [
    "# select only years with > 1k instances of ransomware to reduce data size\n",
    "df=df.query('year > 2012 and year < 2018')\n",
    "df['year'].value_counts()"
   ]
  },
  {
   "cell_type": "code",
   "execution_count": 210,
   "id": "09bb86b8",
   "metadata": {},
   "outputs": [
    {
     "data": {
      "text/plain": [
       "white                          1825000\n",
       "paduaCryptoWall                  12390\n",
       "princetonCerber                   9223\n",
       "montrealCryptoLocker              8536\n",
       "princetonLocky                    6625\n",
       "montrealCryptXXX                  2419\n",
       "montrealNoobCrypt                  483\n",
       "montrealDMALockerv3                354\n",
       "montrealDMALocker                  251\n",
       "montrealSamSam                      62\n",
       "montrealCryptoTorLocker2015         55\n",
       "montrealGlobeImposter               55\n",
       "montrealGlobev3                     34\n",
       "montrealGlobe                       32\n",
       "montrealWannaCry                    28\n",
       "montrealRazy                        12\n",
       "montrealAPT                         11\n",
       "paduaKeRanger                       10\n",
       "montrealXTPLocker                    8\n",
       "montrealXLockerv5.0                  7\n",
       "montrealVenusLocker                  7\n",
       "montrealCryptConsole                 7\n",
       "montrealFlyper                       7\n",
       "montrealEDA2                         6\n",
       "montrealJigSaw                       4\n",
       "paduaJigsaw                          2\n",
       "montrealXLocker                      1\n",
       "montrealSam                          1\n",
       "montrealComradeCircle                1\n",
       "Name: label, dtype: int64"
      ]
     },
     "execution_count": 210,
     "metadata": {},
     "output_type": "execute_result"
    }
   ],
   "source": [
    "df['label'].value_counts()"
   ]
  },
  {
   "cell_type": "code",
   "execution_count": 211,
   "id": "7b0e578f",
   "metadata": {},
   "outputs": [],
   "source": [
    "# Drop columns not used for regression\n",
    "df.drop(columns=[\"address\",\"year\",\"day\"],axis=1,inplace=True)"
   ]
  },
  {
   "cell_type": "code",
   "execution_count": 212,
   "id": "66a90440",
   "metadata": {},
   "outputs": [
    {
     "data": {
      "text/html": [
       "<div>\n",
       "<style scoped>\n",
       "    .dataframe tbody tr th:only-of-type {\n",
       "        vertical-align: middle;\n",
       "    }\n",
       "\n",
       "    .dataframe tbody tr th {\n",
       "        vertical-align: top;\n",
       "    }\n",
       "\n",
       "    .dataframe thead th {\n",
       "        text-align: right;\n",
       "    }\n",
       "</style>\n",
       "<table border=\"1\" class=\"dataframe\">\n",
       "  <thead>\n",
       "    <tr style=\"text-align: right;\">\n",
       "      <th></th>\n",
       "      <th>length</th>\n",
       "      <th>weight</th>\n",
       "      <th>count</th>\n",
       "      <th>looped</th>\n",
       "      <th>neighbors</th>\n",
       "      <th>income</th>\n",
       "      <th>label</th>\n",
       "    </tr>\n",
       "  </thead>\n",
       "  <tbody>\n",
       "    <tr>\n",
       "      <th>0</th>\n",
       "      <td>18</td>\n",
       "      <td>0.008333</td>\n",
       "      <td>1</td>\n",
       "      <td>0</td>\n",
       "      <td>2</td>\n",
       "      <td>100050000.0</td>\n",
       "      <td>princetonCerber</td>\n",
       "    </tr>\n",
       "    <tr>\n",
       "      <th>1</th>\n",
       "      <td>44</td>\n",
       "      <td>0.000244</td>\n",
       "      <td>1</td>\n",
       "      <td>0</td>\n",
       "      <td>1</td>\n",
       "      <td>100000000.0</td>\n",
       "      <td>princetonLocky</td>\n",
       "    </tr>\n",
       "    <tr>\n",
       "      <th>2</th>\n",
       "      <td>0</td>\n",
       "      <td>1.000000</td>\n",
       "      <td>1</td>\n",
       "      <td>0</td>\n",
       "      <td>2</td>\n",
       "      <td>200000000.0</td>\n",
       "      <td>princetonCerber</td>\n",
       "    </tr>\n",
       "    <tr>\n",
       "      <th>3</th>\n",
       "      <td>72</td>\n",
       "      <td>0.003906</td>\n",
       "      <td>1</td>\n",
       "      <td>0</td>\n",
       "      <td>2</td>\n",
       "      <td>71200000.0</td>\n",
       "      <td>princetonCerber</td>\n",
       "    </tr>\n",
       "    <tr>\n",
       "      <th>4</th>\n",
       "      <td>144</td>\n",
       "      <td>0.072848</td>\n",
       "      <td>456</td>\n",
       "      <td>0</td>\n",
       "      <td>1</td>\n",
       "      <td>200000000.0</td>\n",
       "      <td>princetonLocky</td>\n",
       "    </tr>\n",
       "  </tbody>\n",
       "</table>\n",
       "</div>"
      ],
      "text/plain": [
       "   length    weight  count  looped  neighbors       income            label\n",
       "0      18  0.008333      1       0          2  100050000.0  princetonCerber\n",
       "1      44  0.000244      1       0          1  100000000.0   princetonLocky\n",
       "2       0  1.000000      1       0          2  200000000.0  princetonCerber\n",
       "3      72  0.003906      1       0          2   71200000.0  princetonCerber\n",
       "4     144  0.072848    456       0          1  200000000.0   princetonLocky"
      ]
     },
     "execution_count": 212,
     "metadata": {},
     "output_type": "execute_result"
    }
   ],
   "source": [
    "df.head()"
   ]
  },
  {
   "cell_type": "code",
   "execution_count": 213,
   "id": "354726df",
   "metadata": {},
   "outputs": [
    {
     "name": "stdout",
     "output_type": "stream",
     "text": [
      "CPU times: user 2 µs, sys: 1 µs, total: 3 µs\n",
      "Wall time: 5.01 µs\n"
     ]
    }
   ],
   "source": [
    "# create numerical classifications for White, Princeton, Padua and montreal\n",
    "%time\n",
    "def prince(row):\n",
    "    if 'princeton' in row['label']:\n",
    "        val= 1\n",
    "    else:\n",
    "        val = 0\n",
    "    return val\n",
    "\n",
    "df['princeton'] = df.apply(prince, axis=1)"
   ]
  },
  {
   "cell_type": "code",
   "execution_count": 214,
   "id": "0b843137",
   "metadata": {},
   "outputs": [
    {
     "name": "stdout",
     "output_type": "stream",
     "text": [
      "CPU times: user 2 µs, sys: 1e+03 ns, total: 3 µs\n",
      "Wall time: 5.96 µs\n"
     ]
    }
   ],
   "source": [
    "%time\n",
    "def padua(row):\n",
    "    if 'padua' in row['label']:\n",
    "        val= 1\n",
    "    else:\n",
    "        val = 0\n",
    "    return val\n",
    "\n",
    "df['padua'] = df.apply(padua, axis=1)"
   ]
  },
  {
   "cell_type": "code",
   "execution_count": 215,
   "id": "2e627973",
   "metadata": {},
   "outputs": [
    {
     "name": "stdout",
     "output_type": "stream",
     "text": [
      "CPU times: user 2 µs, sys: 1 µs, total: 3 µs\n",
      "Wall time: 4.77 µs\n"
     ]
    }
   ],
   "source": [
    "%time\n",
    "def montreal(row):\n",
    "    if 'montreal' in row['label']:\n",
    "        val= 1\n",
    "    else:\n",
    "        val = 0\n",
    "    return val\n",
    "\n",
    "df['montreal'] = df.apply(montreal, axis=1)"
   ]
  },
  {
   "cell_type": "code",
   "execution_count": 216,
   "id": "38f1039c",
   "metadata": {},
   "outputs": [
    {
     "name": "stdout",
     "output_type": "stream",
     "text": [
      "CPU times: user 2 µs, sys: 0 ns, total: 2 µs\n",
      "Wall time: 5.96 µs\n"
     ]
    }
   ],
   "source": [
    "%time\n",
    "def white(row):\n",
    "    if 'white' in row['label']:\n",
    "        val= 1\n",
    "    else:\n",
    "        val = 0\n",
    "    return val\n",
    "\n",
    "df['white'] = df.apply(white, axis=1)"
   ]
  },
  {
   "cell_type": "code",
   "execution_count": 217,
   "id": "19a34499",
   "metadata": {},
   "outputs": [
    {
     "name": "stdout",
     "output_type": "stream",
     "text": [
      "white    1825000\n",
      "Name: label, dtype: int64\n"
     ]
    },
    {
     "data": {
      "text/plain": [
       "paduaCryptoWall                12390\n",
       "princetonCerber                 9223\n",
       "montrealCryptoLocker            8536\n",
       "princetonLocky                  6625\n",
       "montrealCryptXXX                2419\n",
       "montrealNoobCrypt                483\n",
       "montrealDMALockerv3              354\n",
       "montrealDMALocker                251\n",
       "montrealSamSam                    62\n",
       "montrealCryptoTorLocker2015       55\n",
       "montrealGlobeImposter             55\n",
       "montrealGlobev3                   34\n",
       "montrealGlobe                     32\n",
       "montrealWannaCry                  28\n",
       "montrealRazy                      12\n",
       "montrealAPT                       11\n",
       "paduaKeRanger                     10\n",
       "montrealXTPLocker                  8\n",
       "montrealVenusLocker                7\n",
       "montrealXLockerv5.0                7\n",
       "montrealCryptConsole               7\n",
       "montrealFlyper                     7\n",
       "montrealEDA2                       6\n",
       "montrealJigSaw                     4\n",
       "paduaJigsaw                        2\n",
       "montrealXLocker                    1\n",
       "montrealSam                        1\n",
       "montrealComradeCircle              1\n",
       "Name: label, dtype: int64"
      ]
     },
     "execution_count": 217,
     "metadata": {},
     "output_type": "execute_result"
    }
   ],
   "source": [
    "# manual over sampling\n",
    "df_white=df.query('label == \"white\"')\n",
    "print(df_white['label'].value_counts())\n",
    "\n",
    "df_rwr=df.query('label != \"white\"')\n",
    "df_rwr['label'].value_counts()"
   ]
  },
  {
   "cell_type": "code",
   "execution_count": 218,
   "id": "61fb10fd",
   "metadata": {},
   "outputs": [
    {
     "name": "stderr",
     "output_type": "stream",
     "text": [
      "/var/folders/nc/d0qq985n7zv3k6s5tl41yz4c0000gn/T/ipykernel_16488/3515397921.py:2: FutureWarning: The frame.append method is deprecated and will be removed from pandas in a future version. Use pandas.concat instead.\n",
      "  df_under_sample=df_white.sample(frac=.03,random_state=42).append(df_rwr)\n"
     ]
    }
   ],
   "source": [
    "# Randomly undersample by combining entire positive dataset with 2% of negative dataset\n",
    "df_under_sample=df_white.sample(frac=.03,random_state=42).append(df_rwr)"
   ]
  },
  {
   "cell_type": "code",
   "execution_count": 220,
   "id": "b0f73c5d",
   "metadata": {},
   "outputs": [
    {
     "data": {
      "text/html": [
       "<div>\n",
       "<style scoped>\n",
       "    .dataframe tbody tr th:only-of-type {\n",
       "        vertical-align: middle;\n",
       "    }\n",
       "\n",
       "    .dataframe tbody tr th {\n",
       "        vertical-align: top;\n",
       "    }\n",
       "\n",
       "    .dataframe thead th {\n",
       "        text-align: right;\n",
       "    }\n",
       "</style>\n",
       "<table border=\"1\" class=\"dataframe\">\n",
       "  <thead>\n",
       "    <tr style=\"text-align: right;\">\n",
       "      <th></th>\n",
       "      <th>length</th>\n",
       "      <th>weight</th>\n",
       "      <th>count</th>\n",
       "      <th>looped</th>\n",
       "      <th>neighbors</th>\n",
       "      <th>income</th>\n",
       "      <th>label</th>\n",
       "      <th>princeton</th>\n",
       "      <th>padua</th>\n",
       "      <th>montreal</th>\n",
       "      <th>white</th>\n",
       "    </tr>\n",
       "  </thead>\n",
       "  <tbody>\n",
       "    <tr>\n",
       "      <th>2296118</th>\n",
       "      <td>42</td>\n",
       "      <td>3.051758e-05</td>\n",
       "      <td>1</td>\n",
       "      <td>0</td>\n",
       "      <td>2</td>\n",
       "      <td>3.859276e+08</td>\n",
       "      <td>white</td>\n",
       "      <td>0</td>\n",
       "      <td>0</td>\n",
       "      <td>0</td>\n",
       "      <td>1</td>\n",
       "    </tr>\n",
       "    <tr>\n",
       "      <th>873068</th>\n",
       "      <td>2</td>\n",
       "      <td>2.500000e-01</td>\n",
       "      <td>1</td>\n",
       "      <td>0</td>\n",
       "      <td>2</td>\n",
       "      <td>1.469950e+09</td>\n",
       "      <td>white</td>\n",
       "      <td>0</td>\n",
       "      <td>0</td>\n",
       "      <td>0</td>\n",
       "      <td>1</td>\n",
       "    </tr>\n",
       "    <tr>\n",
       "      <th>1566324</th>\n",
       "      <td>144</td>\n",
       "      <td>2.369196e-01</td>\n",
       "      <td>1028</td>\n",
       "      <td>1</td>\n",
       "      <td>2</td>\n",
       "      <td>2.424425e+08</td>\n",
       "      <td>white</td>\n",
       "      <td>0</td>\n",
       "      <td>0</td>\n",
       "      <td>0</td>\n",
       "      <td>1</td>\n",
       "    </tr>\n",
       "    <tr>\n",
       "      <th>2464558</th>\n",
       "      <td>12</td>\n",
       "      <td>3.478261e-07</td>\n",
       "      <td>1</td>\n",
       "      <td>0</td>\n",
       "      <td>1</td>\n",
       "      <td>4.280000e+07</td>\n",
       "      <td>white</td>\n",
       "      <td>0</td>\n",
       "      <td>0</td>\n",
       "      <td>0</td>\n",
       "      <td>1</td>\n",
       "    </tr>\n",
       "    <tr>\n",
       "      <th>2044142</th>\n",
       "      <td>6</td>\n",
       "      <td>5.000000e-01</td>\n",
       "      <td>1</td>\n",
       "      <td>0</td>\n",
       "      <td>2</td>\n",
       "      <td>4.440000e+07</td>\n",
       "      <td>white</td>\n",
       "      <td>0</td>\n",
       "      <td>0</td>\n",
       "      <td>0</td>\n",
       "      <td>1</td>\n",
       "    </tr>\n",
       "  </tbody>\n",
       "</table>\n",
       "</div>"
      ],
      "text/plain": [
       "         length        weight  count  looped  neighbors        income  label  \\\n",
       "2296118      42  3.051758e-05      1       0          2  3.859276e+08  white   \n",
       "873068        2  2.500000e-01      1       0          2  1.469950e+09  white   \n",
       "1566324     144  2.369196e-01   1028       1          2  2.424425e+08  white   \n",
       "2464558      12  3.478261e-07      1       0          1  4.280000e+07  white   \n",
       "2044142       6  5.000000e-01      1       0          2  4.440000e+07  white   \n",
       "\n",
       "         princeton  padua  montreal  white  \n",
       "2296118          0      0         0      1  \n",
       "873068           0      0         0      1  \n",
       "1566324          0      0         0      1  \n",
       "2464558          0      0         0      1  \n",
       "2044142          0      0         0      1  "
      ]
     },
     "execution_count": 220,
     "metadata": {},
     "output_type": "execute_result"
    }
   ],
   "source": [
    "df_under_sample.head()"
   ]
  },
  {
   "cell_type": "code",
   "execution_count": 221,
   "id": "28035780",
   "metadata": {},
   "outputs": [
    {
     "data": {
      "text/plain": [
       "<AxesSubplot:xlabel='white', ylabel='Count'>"
      ]
     },
     "execution_count": 221,
     "metadata": {},
     "output_type": "execute_result"
    },
    {
     "data": {
      "image/png": "[encoded data removed]",
      "text/plain": [
       "<Figure size 640x480 with 1 Axes>"
      ]
     },
     "metadata": {},
     "output_type": "display_data"
    }
   ],
   "source": [
    "# 30:70 distribution to provide negative ample data for learning\n",
    "# and reasonable amount of negative data points for regression \n",
    "sns.histplot(df_under_sample['white'],bins=2)"
   ]
  },
  {
   "cell_type": "code",
   "execution_count": 222,
   "id": "c2faed06",
   "metadata": {},
   "outputs": [
    {
     "name": "stdout",
     "output_type": "stream",
     "text": [
      "<class 'pandas.core.frame.DataFrame'>\n",
      "Int64Index: 95381 entries, 2296118 to 41412\n",
      "Data columns (total 11 columns):\n",
      " #   Column     Non-Null Count  Dtype  \n",
      "---  ------     --------------  -----  \n",
      " 0   length     95381 non-null  int64  \n",
      " 1   weight     95381 non-null  float64\n",
      " 2   count      95381 non-null  int64  \n",
      " 3   looped     95381 non-null  int64  \n",
      " 4   neighbors  95381 non-null  int64  \n",
      " 5   income     95381 non-null  float64\n",
      " 6   label      95381 non-null  object \n",
      " 7   princeton  95381 non-null  int64  \n",
      " 8   padua      95381 non-null  int64  \n",
      " 9   montreal   95381 non-null  int64  \n",
      " 10  white      95381 non-null  int64  \n",
      "dtypes: float64(2), int64(8), object(1)\n",
      "memory usage: 8.7+ MB\n"
     ]
    }
   ],
   "source": [
    "df_under_sample.info()"
   ]
  },
  {
   "cell_type": "code",
   "execution_count": 224,
   "id": "1faf65e8",
   "metadata": {},
   "outputs": [],
   "source": [
    "# create training set for manual over sampling\n",
    "X_under=df_under_sample.drop(['white','label','montreal','princeton','padua'],axis=1)\n",
    "y_under=df_under_sample['white']\n",
    "X_train_man, X_test_man, y_train_man, y_test_man = train_test_split(X_under, y_under, test_size=0.33, random_state=42)"
   ]
  },
  {
   "cell_type": "code",
   "execution_count": 225,
   "id": "e48ddc72",
   "metadata": {},
   "outputs": [
    {
     "data": {
      "text/plain": [
       "1    54750\n",
       "0    40631\n",
       "Name: white, dtype: int64"
      ]
     },
     "execution_count": 225,
     "metadata": {},
     "output_type": "execute_result"
    }
   ],
   "source": [
    "y_under.value_counts()"
   ]
  },
  {
   "cell_type": "code",
   "execution_count": 227,
   "id": "72f709f2",
   "metadata": {},
   "outputs": [],
   "source": [
    "#Use smote to resample and create smote training sets categorizing White Label\n",
    "X_resample=df.drop(['white','label','montreal','princeton','padua'],axis=1)\n",
    "y_resample=df['white']\n",
    "sm = SMOTE()\n",
    "X_train_smote, y_train_smote = sm.fit_resample(X_resample_train,y_resample_train)\n",
    "X_train_smote, X_test_smote, y_train_smote, y_test_smote = train_test_split(X_train_smote, y_train_smote, test_size=0.33, random_state=42)"
   ]
  },
  {
   "cell_type": "code",
   "execution_count": 228,
   "id": "3cbbd78c",
   "metadata": {},
   "outputs": [],
   "source": [
    "# Use Near Miss to resample and create near miss (nm) training sets categorizing White Label\n",
    "nm = NearMiss()\n",
    "X_train_nm, y_train_nm = nm.fit_resample(X_resample_train, y_resample_train)\n",
    "X_train_nm, X_test_nm, y_train_nm, y_test_nm = train_test_split(X_train_nm, y_train_nm, test_size=0.33, random_state=42)"
   ]
  },
  {
   "cell_type": "code",
   "execution_count": 229,
   "id": "6d09b76d",
   "metadata": {},
   "outputs": [
    {
     "name": "stdout",
     "output_type": "stream",
     "text": [
      "under \n",
      " 1    36623\n",
      "0    27282\n",
      "Name: white, dtype: int64\n",
      "smote \n",
      " 1    819482\n",
      "0    819070\n",
      "Name: white, dtype: int64\n",
      "nm \n",
      " 1    18234\n",
      "0    18176\n",
      "Name: white, dtype: int64\n"
     ]
    }
   ],
   "source": [
    "print(\"under \\n\",y_train_under.value_counts())\n",
    "print('smote \\n',y_train_smote.value_counts())\n",
    "print('nm \\n',y_train_nm.value_counts())\n"
   ]
  },
  {
   "cell_type": "code",
   "execution_count": 231,
   "id": "1592e854",
   "metadata": {},
   "outputs": [],
   "source": [
    "pipe_under_knn=Pipeline([('scale',StandardScaler()),('knn',KNeighborsClassifier())]).fit(X_train_under,y_train_under)"
   ]
  },
  {
   "cell_type": "code",
   "execution_count": 232,
   "id": "1745bc3a",
   "metadata": {},
   "outputs": [],
   "source": [
    "pipe_smote_knn=Pipeline([('scale',StandardScaler()),('knn',KNeighborsClassifier())]).fit(X_train_smote,y_train_smote)"
   ]
  },
  {
   "cell_type": "code",
   "execution_count": 233,
   "id": "ced67af7",
   "metadata": {},
   "outputs": [],
   "source": [
    "pipe_nm_knn=Pipeline([('scale',StandardScaler()),('knn',KNeighborsClassifier())]).fit(X_train_nm,y_train_nm)"
   ]
  },
  {
   "cell_type": "code",
   "execution_count": 234,
   "id": "1cb9ff78",
   "metadata": {},
   "outputs": [],
   "source": [
    "pipe_under_lr=Pipeline([('scale',StandardScaler()),('lr',LogisticRegression())]).fit(X_train_under,y_train_under)"
   ]
  },
  {
   "cell_type": "code",
   "execution_count": 235,
   "id": "b63f8c0b",
   "metadata": {},
   "outputs": [],
   "source": [
    "pipe_smote_lr=Pipeline([('scale',StandardScaler()),('lr',LogisticRegression())]).fit(X_train_smote,y_train_smote)"
   ]
  },
  {
   "cell_type": "code",
   "execution_count": 236,
   "id": "0672057c",
   "metadata": {},
   "outputs": [],
   "source": [
    "pipe_nm_lr=Pipeline([('scale',StandardScaler()),('lr',LogisticRegression(n_estimators = 100))]).fit(X_train_nm,y_train_nm)"
   ]
  },
  {
   "cell_type": "code",
   "execution_count": 237,
   "id": "3dc8e74d",
   "metadata": {},
   "outputs": [],
   "source": [
    "pipe_under_rf=Pipeline([('scale',StandardScaler()),('rf',RandomForestClassifier(n_jobs = 4))]).fit(X_train_under,y_train_under)"
   ]
  },
  {
   "cell_type": "code",
   "execution_count": 241,
   "id": "1e5ed8cc",
   "metadata": {},
   "outputs": [],
   "source": [
    "pipe_smote_rf=Pipeline([('scale',StandardScaler()),('rf',RandomForestClassifier(n_jobs=4))]).fit(X_train_smote,y_train_smote)"
   ]
  },
  {
   "cell_type": "code",
   "execution_count": 242,
   "id": "45604852",
   "metadata": {},
   "outputs": [],
   "source": [
    "pipe_nm_rf=Pipeline([('scale',StandardScaler()),('rf',RandomForestClassifier(n_jobs=4))]).fit(X_train_nm,y_train_nm)"
   ]
  },
  {
   "cell_type": "code",
   "execution_count": 243,
   "id": "cb51e865",
   "metadata": {},
   "outputs": [
    {
     "data": {
      "image/png": "[encoded data removed]",
      "text/plain": [
       "<Figure size 640x480 with 1 Axes>"
      ]
     },
     "metadata": {},
     "output_type": "display_data"
    }
   ],
   "source": [
    "df_rf_features=pd.DataFrame(columns=pipe_under_rf.named_steps.scale.get_feature_names_out())\n",
    "df_rf_features.loc[len(df_rf_features)] = pipe_under_rf.named_steps.rf.feature_importances_\n",
    "df_rf_features=df_rf_features.sort_values(by=0, ascending=True, axis=1)\n",
    "df_rf_features.head()\n",
    "sns.barplot(data=df_rf_features).set(title='Decision Tree Feature Importance')\n",
    "plt.xticks(rotation=90);"
   ]
  },
  {
   "cell_type": "code",
   "execution_count": 244,
   "id": "c81c1fec",
   "metadata": {},
   "outputs": [
    {
     "data": {
      "image/png": "[encoded data removed]",
      "text/plain": [
       "<Figure size 640x480 with 1 Axes>"
      ]
     },
     "metadata": {},
     "output_type": "display_data"
    }
   ],
   "source": [
    "df_lr_features=pd.DataFrame(pipe_under_lr.named_steps.lr.coef_,columns=pipe_under_lr.named_steps.scale.get_feature_names_out())\n",
    "df_lr_features=df_lr_features.sort_values(by=0, ascending=True, axis=1)\n",
    "df_lr_features.head()\n",
    "sns.barplot(data=df_lr_features).set(title='Logistic Regression Feature Importance')\n",
    "plt.xticks(rotation=90);"
   ]
  },
  {
   "cell_type": "code",
   "execution_count": 247,
   "id": "f3d7da7f",
   "metadata": {},
   "outputs": [
    {
     "name": "stderr",
     "output_type": "stream",
     "text": [
      "/var/folders/nc/d0qq985n7zv3k6s5tl41yz4c0000gn/T/ipykernel_16488/3594014974.py:1: FutureWarning: The frame.append method is deprecated and will be removed from pandas in a future version. Use pandas.concat instead.\n",
      "  df_features=df_rf_features.append(df_lr_features)\n",
      "/var/folders/nc/d0qq985n7zv3k6s5tl41yz4c0000gn/T/ipykernel_16488/3594014974.py:4: SettingWithCopyWarning: \n",
      "A value is trying to be set on a copy of a slice from a DataFrame\n",
      "\n",
      "See the caveats in the documentation: https://pandas.pydata.org/pandas-docs/stable/user_guide/indexing.html#returning-a-view-versus-a-copy\n",
      "  df_features['model'].iloc[0]='random forest'\n"
     ]
    },
    {
     "data": {
      "text/html": [
       "<div>\n",
       "<style scoped>\n",
       "    .dataframe tbody tr th:only-of-type {\n",
       "        vertical-align: middle;\n",
       "    }\n",
       "\n",
       "    .dataframe tbody tr th {\n",
       "        vertical-align: top;\n",
       "    }\n",
       "\n",
       "    .dataframe thead th {\n",
       "        text-align: right;\n",
       "    }\n",
       "</style>\n",
       "<table border=\"1\" class=\"dataframe\">\n",
       "  <thead>\n",
       "    <tr style=\"text-align: right;\">\n",
       "      <th></th>\n",
       "      <th>model</th>\n",
       "      <th>looped</th>\n",
       "      <th>neighbors</th>\n",
       "      <th>length</th>\n",
       "      <th>count</th>\n",
       "      <th>weight</th>\n",
       "      <th>income</th>\n",
       "    </tr>\n",
       "  </thead>\n",
       "  <tbody>\n",
       "    <tr>\n",
       "      <th>0</th>\n",
       "      <td>random forest</td>\n",
       "      <td>0.046008</td>\n",
       "      <td>0.051498</td>\n",
       "      <td>0.085857</td>\n",
       "      <td>0.100580</td>\n",
       "      <td>0.176683</td>\n",
       "      <td>0.539373</td>\n",
       "    </tr>\n",
       "    <tr>\n",
       "      <th>1</th>\n",
       "      <td>logistic regression</td>\n",
       "      <td>0.325608</td>\n",
       "      <td>0.088729</td>\n",
       "      <td>0.087807</td>\n",
       "      <td>-0.036478</td>\n",
       "      <td>-0.168759</td>\n",
       "      <td>0.337678</td>\n",
       "    </tr>\n",
       "  </tbody>\n",
       "</table>\n",
       "</div>"
      ],
      "text/plain": [
       "                 model    looped  neighbors    length     count    weight  \\\n",
       "0        random forest  0.046008   0.051498  0.085857  0.100580  0.176683   \n",
       "1  logistic regression  0.325608   0.088729  0.087807 -0.036478 -0.168759   \n",
       "\n",
       "     income  \n",
       "0  0.539373  \n",
       "1  0.337678  "
      ]
     },
     "execution_count": 247,
     "metadata": {},
     "output_type": "execute_result"
    }
   ],
   "source": [
    "df_features=df_rf_features.append(df_lr_features)\n",
    "df_features.reset_index(inplace=True)\n",
    "df_features=df_features.rename(columns={'index':'model'})\n",
    "df_features['model'].iloc[0]='random forest'\n",
    "df_features['model'].iloc[1]='logistic regression'\n",
    "df_features.head()"
   ]
  },
  {
   "cell_type": "code",
   "execution_count": 256,
   "id": "af86656d",
   "metadata": {},
   "outputs": [],
   "source": [
    "#scale test data sets\n",
    "scale=StandardScaler()\n",
    "\n",
    "# scale under sample dataset\n",
    "scale.fit(X_train_under)\n",
    "X_test_man_scaled=scale.transform(X_test_man)\n",
    "\n",
    "# scale smote data set\n",
    "scale.fit(X_train_smote)\n",
    "X_test_smote_scaled=scale.transform(X_test_smote)\n",
    "\n",
    "# scale near miss data set\n",
    "scale.fit(X_train_nm)\n",
    "X_test_nm_scaled=scale.transform(X_test_nm)"
   ]
  },
  {
   "cell_type": "code",
   "execution_count": 257,
   "id": "00d80ad8",
   "metadata": {},
   "outputs": [
    {
     "name": "stderr",
     "output_type": "stream",
     "text": [
      "/Users/joshuagreenberg/opt/anaconda3/lib/python3.9/site-packages/sklearn/neighbors/_classification.py:228: FutureWarning: Unlike other reduction functions (e.g. `skew`, `kurtosis`), the default behavior of `mode` typically preserves the axis it acts along. In SciPy 1.11.0, this behavior will change: the default value of `keepdims` will become False, the `axis` over which the statistic is taken will be eliminated, and the value None will no longer be accepted. Set `keepdims` to True or False to avoid this warning.\n",
      "  mode, _ = stats.mode(_y[neigh_ind, k], axis=1)\n",
      "/Users/joshuagreenberg/opt/anaconda3/lib/python3.9/site-packages/sklearn/neighbors/_classification.py:228: FutureWarning: Unlike other reduction functions (e.g. `skew`, `kurtosis`), the default behavior of `mode` typically preserves the axis it acts along. In SciPy 1.11.0, this behavior will change: the default value of `keepdims` will become False, the `axis` over which the statistic is taken will be eliminated, and the value None will no longer be accepted. Set `keepdims` to True or False to avoid this warning.\n",
      "  mode, _ = stats.mode(_y[neigh_ind, k], axis=1)\n",
      "/Users/joshuagreenberg/opt/anaconda3/lib/python3.9/site-packages/sklearn/neighbors/_classification.py:228: FutureWarning: Unlike other reduction functions (e.g. `skew`, `kurtosis`), the default behavior of `mode` typically preserves the axis it acts along. In SciPy 1.11.0, this behavior will change: the default value of `keepdims` will become False, the `axis` over which the statistic is taken will be eliminated, and the value None will no longer be accepted. Set `keepdims` to True or False to avoid this warning.\n",
      "  mode, _ = stats.mode(_y[neigh_ind, k], axis=1)\n"
     ]
    },
    {
     "name": "stdout",
     "output_type": "stream",
     "text": [
      "knn complete\n",
      "lr complete\n",
      "rf complete\n"
     ]
    }
   ],
   "source": [
    "preds_knn_man=pipe_under_knn.named_steps.knn.predict(X_test_man_scaled)\n",
    "preds_knn_smote=pipe_smote_knn.named_steps.knn.predict(X_test_smote_scaled)\n",
    "preds_knn_nm=pipe_nm_knn.named_steps.knn.predict(X_test_nm_scaled)\n",
    "print('knn complete')\n",
    "preds_lr_man=pipe_under_lr.named_steps.lr.predict(X_test_man_scaled)\n",
    "preds_lr_smote=pipe_smote_lr.named_steps.lr.predict(X_test_smote_scaled)\n",
    "preds_lr_nm=pipe_nm_lr.named_steps.lr.predict(X_test_nm_scaled)\n",
    "print('lr complete')\n",
    "preds_rf_man=pipe_under_rf.named_steps.rf.predict(X_test_man_scaled)\n",
    "preds_rf_smote=pipe_smote_rf.named_steps.rf.predict(X_test_smote_scaled)\n",
    "preds_rf_nm=pipe_nm_rf.named_steps.rf.predict(X_test_nm_scaled)\n",
    "print('rf complete')\n",
    "\n",
    "\n"
   ]
  },
  {
   "cell_type": "code",
   "execution_count": 258,
   "id": "5d0326d7",
   "metadata": {},
   "outputs": [
    {
     "name": "stdout",
     "output_type": "stream",
     "text": [
      "807048\n",
      "807048\n"
     ]
    }
   ],
   "source": [
    "print(len(y_test_smote))\n",
    "print(len(preds_knn_smote))"
   ]
  },
  {
   "cell_type": "code",
   "execution_count": 259,
   "id": "d7c3a2b8",
   "metadata": {},
   "outputs": [
    {
     "name": "stdout",
     "output_type": "stream",
     "text": [
      "Under KNN Pscore:  0.722957629465522\n",
      "Smote KNN Pscore:  0.8928485085413591\n",
      "Near Miss KNN Pscore:  0.8402543214782436\n",
      "Under logistic regression Pscore:  0.5761379971250599\n",
      "Smote logistic regression Pscore:  0.6157360632656125\n",
      "Near Miss logistic regression Pscore:  0.7105781584582441\n",
      "Under RandomForest Pscore:  0.7752012157370406\n",
      "Smote RandomForest Pscore:  0.961967888619502\n",
      "Near Miss RandomForest Pscore:  0.8631578947368421\n"
     ]
    }
   ],
   "source": [
    "print(\"Under KNN Pscore: \",precision_score(y_test_man,preds_knn_man))\n",
    "print(\"Smote KNN Pscore: \", precision_score(y_test_smote,preds_knn_smote))\n",
    "print(\"Near Miss KNN Pscore: \", precision_score(y_test_nm,preds_knn_nm,zero_division=1))\n",
    "\n",
    "print(\"Under logistic regression Pscore: \",precision_score(y_test_man,preds_lr_man))\n",
    "print(\"Smote logistic regression Pscore: \", precision_score(y_test_smote,preds_lr_smote))\n",
    "print(\"Near Miss logistic regression Pscore: \", precision_score(y_test_nm,preds_lr_nm,zero_division=1))\n",
    "\n",
    "print(\"Under RandomForest Pscore: \",precision_score(y_test_man,preds_rf_man))\n",
    "print(\"Smote RandomForest Pscore: \", precision_score(y_test_smote,preds_rf_smote))\n",
    "print(\"Near Miss RandomForest Pscore: \", precision_score(y_test_nm,preds_rf_nm))\n"
   ]
  },
  {
   "cell_type": "code",
   "execution_count": 263,
   "id": "bd38e05e",
   "metadata": {},
   "outputs": [
    {
     "name": "stdout",
     "output_type": "stream",
     "text": [
      "Manual KNN Pscore:                precision    recall  f1-score   support\n",
      "\n",
      "           0       0.62      0.63      0.62     13349\n",
      "           1       0.72      0.72      0.72     18127\n",
      "\n",
      "    accuracy                           0.68     31476\n",
      "   macro avg       0.67      0.67      0.67     31476\n",
      "weighted avg       0.68      0.68      0.68     31476\n",
      "\n",
      "Smote KNN Pscore:                precision    recall  f1-score   support\n",
      "\n",
      "           0       0.87      0.90      0.88    403730\n",
      "           1       0.89      0.86      0.88    403318\n",
      "\n",
      "    accuracy                           0.88    807048\n",
      "   macro avg       0.88      0.88      0.88    807048\n",
      "weighted avg       0.88      0.88      0.88    807048\n",
      "\n",
      "Near Miss KNN Pscore:                precision    recall  f1-score   support\n",
      "\n",
      "           0       0.94      0.82      0.88      8996\n",
      "           1       0.84      0.95      0.89      8938\n",
      "\n",
      "    accuracy                           0.88     17934\n",
      "   macro avg       0.89      0.88      0.88     17934\n",
      "weighted avg       0.89      0.88      0.88     17934\n",
      "\n",
      "Manual logistic regression Pscore:                precision    recall  f1-score   support\n",
      "\n",
      "           0       0.47      0.01      0.01     13349\n",
      "           1       0.58      0.99      0.73     18127\n",
      "\n",
      "    accuracy                           0.58     31476\n",
      "   macro avg       0.52      0.50      0.37     31476\n",
      "weighted avg       0.53      0.58      0.43     31476\n",
      "\n",
      "Smote logistic regression Pscore:                precision    recall  f1-score   support\n",
      "\n",
      "           0       0.55      0.77      0.64    403730\n",
      "           1       0.62      0.38      0.47    403318\n",
      "\n",
      "    accuracy                           0.57    807048\n",
      "   macro avg       0.58      0.57      0.55    807048\n",
      "weighted avg       0.58      0.57      0.55    807048\n",
      "\n",
      "Near Miss logistic regression Pscore:                precision    recall  f1-score   support\n",
      "\n",
      "           0       0.90      0.62      0.74      8996\n",
      "           1       0.71      0.93      0.80      8938\n",
      "\n",
      "    accuracy                           0.78     17934\n",
      "   macro avg       0.80      0.78      0.77     17934\n",
      "weighted avg       0.80      0.78      0.77     17934\n",
      "\n",
      "Manual RandromForest Pscore:                precision    recall  f1-score   support\n",
      "\n",
      "           0       0.68      0.70      0.69     13349\n",
      "           1       0.78      0.76      0.77     18127\n",
      "\n",
      "    accuracy                           0.73     31476\n",
      "   macro avg       0.73      0.73      0.73     31476\n",
      "weighted avg       0.74      0.73      0.74     31476\n",
      "\n",
      "Smote RandromForest Pscore:                precision    recall  f1-score   support\n",
      "\n",
      "           0       0.92      0.96      0.94    403730\n",
      "           1       0.96      0.92      0.94    403318\n",
      "\n",
      "    accuracy                           0.94    807048\n",
      "   macro avg       0.94      0.94      0.94    807048\n",
      "weighted avg       0.94      0.94      0.94    807048\n",
      "\n",
      "Near Miss RandromForest Pscore:                precision    recall  f1-score   support\n",
      "\n",
      "           0       0.97      0.85      0.90      8996\n",
      "           1       0.86      0.97      0.91      8938\n",
      "\n",
      "    accuracy                           0.91     17934\n",
      "   macro avg       0.92      0.91      0.91     17934\n",
      "weighted avg       0.92      0.91      0.91     17934\n",
      "\n"
     ]
    }
   ],
   "source": [
    "print(\"Manual KNN Pscore: \",classification_report(y_test_man,preds_knn_man,zero_division=1))\n",
    "print(\"Smote KNN Pscore: \", classification_report(y_test_smote,preds_knn_smote,zero_division=1))\n",
    "print(\"Near Miss KNN Pscore: \", classification_report(y_test_nm,preds_knn_nm,zero_division=1))\n",
    "\n",
    "print(\"Manual logistic regression Pscore: \",classification_report(y_test_man,preds_lr_man,zero_division=1))\n",
    "print(\"Smote logistic regression Pscore: \", classification_report(y_test_smote,preds_lr_smote,zero_division=1))\n",
    "print(\"Near Miss logistic regression Pscore: \", classification_report(y_test_nm,preds_lr_nm,zero_division=1))\n",
    "\n",
    "print(\"Manual RandromForest Pscore: \",classification_report(y_test_man,preds_rf_man,zero_division=1))\n",
    "print(\"Smote RandromForest Pscore: \", classification_report(y_test_smote,preds_rf_smote,zero_division=1))\n",
    "print(\"Near Miss RandromForest Pscore: \", classification_report(y_test_nm,preds_rf_nm,zero_division=1))\n"
   ]
  },
  {
   "cell_type": "code",
   "execution_count": null,
   "id": "4089a445",
   "metadata": {},
   "outputs": [],
   "source": []
  }
 ],
 "metadata": {
  "kernelspec": {
   "display_name": "Python 3 (ipykernel)",
   "language": "python",
   "name": "python3"
  },
  "language_info": {
   "codemirror_mode": {
    "name": "ipython",
    "version": 3
   },
   "file_extension": ".py",
   "mimetype": "text/x-python",
   "name": "python",
   "nbconvert_exporter": "python",
   "pygments_lexer": "ipython3",
   "version": "3.9.13"
  }
 },
 "nbformat": 4,
 "nbformat_minor": 5
}
